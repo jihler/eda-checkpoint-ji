{
    "cells": [
        {
            "attachments": {},
            "cell_type": "markdown",
            "metadata": {
                "azdata_cell_guid": "151601c9-ca7a-412e-af80-c62a87e0837e"
            },
            "source": [
                "# Checkpoint Two: Exploratory Data Analysis\n",
                "\n",
                "Now that your chosen dataset is approved, it is time to start working on your analysis. Use this notebook to perform your EDA and make notes where directed to as you work.\n",
                "\n",
                "## Getting Started\n",
                "\n",
                "Since we have not provided your dataset for you, you will need to load the necessary files in this repository. Make sure to include a link back to the original dataset here as well.\n",
                "\n",
                "My dataset:\n",
                "\n",
                "Your first task in EDA is to import necessary libraries and create a dataframe(s). Make note in the form of code comments of what your thought process is as you work on this setup task."
            ]
        },
        {
            "cell_type": "code",
            "execution_count": 32,
            "metadata": {
                "azdata_cell_guid": "7b503e37-6df5-4433-acfb-678b1346db14"
            },
            "outputs": [
                {
                    "data": {
                        "text/html": [
                            "<div>\n",
                            "<style scoped>\n",
                            "    .dataframe tbody tr th:only-of-type {\n",
                            "        vertical-align: middle;\n",
                            "    }\n",
                            "\n",
                            "    .dataframe tbody tr th {\n",
                            "        vertical-align: top;\n",
                            "    }\n",
                            "\n",
                            "    .dataframe thead th {\n",
                            "        text-align: right;\n",
                            "    }\n",
                            "</style>\n",
                            "<table border=\"1\" class=\"dataframe\">\n",
                            "  <thead>\n",
                            "    <tr style=\"text-align: right;\">\n",
                            "      <th></th>\n",
                            "      <th>Employee_ID</th>\n",
                            "      <th>Age</th>\n",
                            "      <th>Gender</th>\n",
                            "      <th>Job_Role</th>\n",
                            "      <th>Industry</th>\n",
                            "      <th>Years_of_Experience</th>\n",
                            "      <th>Work_Location</th>\n",
                            "      <th>Hours_Worked_Per_Week</th>\n",
                            "      <th>Number_of_Virtual_Meetings</th>\n",
                            "      <th>Work_Life_Balance_Rating</th>\n",
                            "      <th>Stress_Level</th>\n",
                            "      <th>Mental_Health_Condition</th>\n",
                            "      <th>Access_to_Mental_Health_Resources</th>\n",
                            "      <th>Productivity_Change</th>\n",
                            "      <th>Social_Isolation_Rating</th>\n",
                            "      <th>Satisfaction_with_Remote_Work</th>\n",
                            "      <th>Company_Support_for_Remote_Work</th>\n",
                            "      <th>Physical_Activity</th>\n",
                            "      <th>Sleep_Quality</th>\n",
                            "      <th>Region</th>\n",
                            "    </tr>\n",
                            "  </thead>\n",
                            "  <tbody>\n",
                            "    <tr>\n",
                            "      <th>0</th>\n",
                            "      <td>EMP0001</td>\n",
                            "      <td>32</td>\n",
                            "      <td>Non-binary</td>\n",
                            "      <td>HR</td>\n",
                            "      <td>Healthcare</td>\n",
                            "      <td>13</td>\n",
                            "      <td>Hybrid</td>\n",
                            "      <td>47</td>\n",
                            "      <td>7</td>\n",
                            "      <td>2</td>\n",
                            "      <td>Medium</td>\n",
                            "      <td>Depression</td>\n",
                            "      <td>No</td>\n",
                            "      <td>Decrease</td>\n",
                            "      <td>1</td>\n",
                            "      <td>Unsatisfied</td>\n",
                            "      <td>1</td>\n",
                            "      <td>Weekly</td>\n",
                            "      <td>Good</td>\n",
                            "      <td>Europe</td>\n",
                            "    </tr>\n",
                            "    <tr>\n",
                            "      <th>1</th>\n",
                            "      <td>EMP0002</td>\n",
                            "      <td>40</td>\n",
                            "      <td>Female</td>\n",
                            "      <td>Data Scientist</td>\n",
                            "      <td>IT</td>\n",
                            "      <td>3</td>\n",
                            "      <td>Remote</td>\n",
                            "      <td>52</td>\n",
                            "      <td>4</td>\n",
                            "      <td>1</td>\n",
                            "      <td>Medium</td>\n",
                            "      <td>Anxiety</td>\n",
                            "      <td>No</td>\n",
                            "      <td>Increase</td>\n",
                            "      <td>3</td>\n",
                            "      <td>Satisfied</td>\n",
                            "      <td>2</td>\n",
                            "      <td>Weekly</td>\n",
                            "      <td>Good</td>\n",
                            "      <td>Asia</td>\n",
                            "    </tr>\n",
                            "    <tr>\n",
                            "      <th>2</th>\n",
                            "      <td>EMP0003</td>\n",
                            "      <td>59</td>\n",
                            "      <td>Non-binary</td>\n",
                            "      <td>Software Engineer</td>\n",
                            "      <td>Education</td>\n",
                            "      <td>22</td>\n",
                            "      <td>Hybrid</td>\n",
                            "      <td>46</td>\n",
                            "      <td>11</td>\n",
                            "      <td>5</td>\n",
                            "      <td>Medium</td>\n",
                            "      <td>Anxiety</td>\n",
                            "      <td>No</td>\n",
                            "      <td>No Change</td>\n",
                            "      <td>4</td>\n",
                            "      <td>Unsatisfied</td>\n",
                            "      <td>5</td>\n",
                            "      <td>NaN</td>\n",
                            "      <td>Poor</td>\n",
                            "      <td>North America</td>\n",
                            "    </tr>\n",
                            "    <tr>\n",
                            "      <th>3</th>\n",
                            "      <td>EMP0004</td>\n",
                            "      <td>27</td>\n",
                            "      <td>Male</td>\n",
                            "      <td>Software Engineer</td>\n",
                            "      <td>Finance</td>\n",
                            "      <td>20</td>\n",
                            "      <td>Onsite</td>\n",
                            "      <td>32</td>\n",
                            "      <td>8</td>\n",
                            "      <td>4</td>\n",
                            "      <td>High</td>\n",
                            "      <td>Depression</td>\n",
                            "      <td>Yes</td>\n",
                            "      <td>Increase</td>\n",
                            "      <td>3</td>\n",
                            "      <td>Unsatisfied</td>\n",
                            "      <td>3</td>\n",
                            "      <td>NaN</td>\n",
                            "      <td>Poor</td>\n",
                            "      <td>Europe</td>\n",
                            "    </tr>\n",
                            "    <tr>\n",
                            "      <th>4</th>\n",
                            "      <td>EMP0005</td>\n",
                            "      <td>49</td>\n",
                            "      <td>Male</td>\n",
                            "      <td>Sales</td>\n",
                            "      <td>Consulting</td>\n",
                            "      <td>32</td>\n",
                            "      <td>Onsite</td>\n",
                            "      <td>35</td>\n",
                            "      <td>12</td>\n",
                            "      <td>2</td>\n",
                            "      <td>High</td>\n",
                            "      <td>NaN</td>\n",
                            "      <td>Yes</td>\n",
                            "      <td>Decrease</td>\n",
                            "      <td>3</td>\n",
                            "      <td>Unsatisfied</td>\n",
                            "      <td>3</td>\n",
                            "      <td>Weekly</td>\n",
                            "      <td>Average</td>\n",
                            "      <td>North America</td>\n",
                            "    </tr>\n",
                            "  </tbody>\n",
                            "</table>\n",
                            "</div>"
                        ],
                        "text/plain": [
                            "  Employee_ID  Age      Gender           Job_Role    Industry  \\\n",
                            "0     EMP0001   32  Non-binary                 HR  Healthcare   \n",
                            "1     EMP0002   40      Female     Data Scientist          IT   \n",
                            "2     EMP0003   59  Non-binary  Software Engineer   Education   \n",
                            "3     EMP0004   27        Male  Software Engineer     Finance   \n",
                            "4     EMP0005   49        Male              Sales  Consulting   \n",
                            "\n",
                            "   Years_of_Experience Work_Location  Hours_Worked_Per_Week  \\\n",
                            "0                   13        Hybrid                     47   \n",
                            "1                    3        Remote                     52   \n",
                            "2                   22        Hybrid                     46   \n",
                            "3                   20        Onsite                     32   \n",
                            "4                   32        Onsite                     35   \n",
                            "\n",
                            "   Number_of_Virtual_Meetings  Work_Life_Balance_Rating Stress_Level  \\\n",
                            "0                           7                         2       Medium   \n",
                            "1                           4                         1       Medium   \n",
                            "2                          11                         5       Medium   \n",
                            "3                           8                         4         High   \n",
                            "4                          12                         2         High   \n",
                            "\n",
                            "  Mental_Health_Condition Access_to_Mental_Health_Resources  \\\n",
                            "0              Depression                                No   \n",
                            "1                 Anxiety                                No   \n",
                            "2                 Anxiety                                No   \n",
                            "3              Depression                               Yes   \n",
                            "4                     NaN                               Yes   \n",
                            "\n",
                            "  Productivity_Change  Social_Isolation_Rating Satisfaction_with_Remote_Work  \\\n",
                            "0            Decrease                        1                   Unsatisfied   \n",
                            "1            Increase                        3                     Satisfied   \n",
                            "2           No Change                        4                   Unsatisfied   \n",
                            "3            Increase                        3                   Unsatisfied   \n",
                            "4            Decrease                        3                   Unsatisfied   \n",
                            "\n",
                            "   Company_Support_for_Remote_Work Physical_Activity Sleep_Quality  \\\n",
                            "0                                1            Weekly          Good   \n",
                            "1                                2            Weekly          Good   \n",
                            "2                                5               NaN          Poor   \n",
                            "3                                3               NaN          Poor   \n",
                            "4                                3            Weekly       Average   \n",
                            "\n",
                            "          Region  \n",
                            "0         Europe  \n",
                            "1           Asia  \n",
                            "2  North America  \n",
                            "3         Europe  \n",
                            "4  North America  "
                        ]
                    },
                    "execution_count": 32,
                    "metadata": {},
                    "output_type": "execute_result"
                }
            ],
            "source": [
                "# import libraries\n",
                "import pandas as pd\n",
                "import matplotlib.pyplot as plt\n",
                "import seaborn as sns\n",
                "\n",
                "# load dataset\n",
                "df = pd.read_csv(r'C:\\Users\\jorda\\OneDrive\\Desktop\\Data Analysis\\Final Project\\Impact_of_Remote_Work_on_Mental_Health.csv')\n",
                "\n",
                "# display first rows\n",
                "df.head()\n"
            ]
        },
        {
            "attachments": {},
            "cell_type": "markdown",
            "metadata": {
                "azdata_cell_guid": "129ce836-524b-4ea8-b394-a959f9308d6a"
            },
            "source": [
                "## Get to Know the Numbers\n",
                "\n",
                "Now that you have everything setup, put any code that you use to get to know the dataframe and its rows and columns better in the cell below. You can use whatever techniques you like, except for visualizations. You will put those in a separate section.\n",
                "\n",
                "When working on your code, make sure to leave comments so that your mentors can understand your thought process."
            ]
        },
        {
            "cell_type": "code",
            "execution_count": 37,
            "metadata": {
                "azdata_cell_guid": "0ca2d318-f6e8-43ef-a33e-5304d24d928d",
                "tags": []
            },
            "outputs": [
                {
                    "data": {
                        "text/plain": [
                            "Index(['Employee_ID', 'Age', 'Gender', 'Job_Role', 'Industry',\n",
                            "       'Years_of_Experience', 'Work_Location', 'Hours_Worked_Per_Week',\n",
                            "       'Number_of_Virtual_Meetings', 'Work_Life_Balance_Rating',\n",
                            "       'Stress_Level', 'Mental_Health_Condition',\n",
                            "       'Access_to_Mental_Health_Resources', 'Productivity_Change',\n",
                            "       'Social_Isolation_Rating', 'Satisfaction_with_Remote_Work',\n",
                            "       'Company_Support_for_Remote_Work', 'Physical_Activity', 'Sleep_Quality',\n",
                            "       'Region'],\n",
                            "      dtype='object')"
                        ]
                    },
                    "execution_count": 37,
                    "metadata": {},
                    "output_type": "execute_result"
                }
            ],
            "source": [
                "# # check basic info\n",
                "# df.info()\n",
                "\n",
                "# check for how many columns \n",
                "df.columns\n",
                "\n",
                "# # check for missing values\n",
                "# df.isnull().sum()\n",
                "\n",
                "# # look at number of rows and columns\n",
                "# df.shape\n",
                "\n",
                "# # \n",
                "# df['Job_Role'].value_counts()\n",
                "\n",
                "# #\n",
                "# df['Mental_Health_Condition'].value_counts()\n"
            ]
        },
        {
            "attachments": {},
            "cell_type": "markdown",
            "metadata": {
                "azdata_cell_guid": "d45060f3-97bc-484a-9ef4-66145bbe9427"
            },
            "source": [
                "## Visualize\n",
                "\n",
                "Create any visualizations for your EDA here. Make note in the form of code comments of what your thought process is for your visualizations."
            ]
        },
        {
            "cell_type": "code",
            "execution_count": 38,
            "metadata": {
                "azdata_cell_guid": "f4565b03-759a-47a8-b58f-01b32a0b4b67"
            },
            "outputs": [
                {
                    "data": {
                        "text/plain": [
                            "<Figure size 800x600 with 0 Axes>"
                        ]
                    },
                    "metadata": {},
                    "output_type": "display_data"
                },
                {
                    "data": {
                        "image/png": "[encoded data removed]",
                        "text/plain": [
                            "<Figure size 640x480 with 1 Axes>"
                        ]
                    },
                    "metadata": {},
                    "output_type": "display_data"
                }
            ],
            "source": [
                "# Average Hours Worked per Week vs. Mental Health Status\n",
                "plt.figure(figsize=(8, 6))\n",
                "\n",
                "#box plot\n",
                "df.boxplot(column='Hours_Worked_Per_Week', by='Mental_Health_Condition')\n",
                "\n",
                "#labels and titles\n",
                "plt.title('Hours Worked per Week by Mental Health Condition')\n",
                "plt.xlabel('Mental Health Condition')\n",
                "plt.ylabel('Hours Worked per Week')\n",
                "\n",
                "#display\n",
                "plt.show()\n",
                "    "
            ]
        },
        {
            "cell_type": "code",
            "execution_count": 19,
            "metadata": {
                "azdata_cell_guid": "cd64bab1-db4c-4295-820d-c6464b653a3e"
            },
            "outputs": [],
            "source": []
        },
        {
            "cell_type": "markdown",
            "metadata": {
                "azdata_cell_guid": "d4931c0c-2c09-4ee1-95d4-73dd08c2f0a6"
            },
            "source": [
                "## Summarize Your Results\n",
                "\n",
                "With your EDA complete, answer the following questions.\n",
                "\n",
                "1. Was there anything surprising about your dataset? \n",
                "2. Do you have any concerns about your dataset? \n",
                "3. Is there anything you want to make note of for the next phase of your analysis, which is cleaning data? "
            ]
        }
    ],
    "metadata": {
        "kernelspec": {
            "display_name": "Python 3",
            "language": "python",
            "name": "python3"
        },
        "language_info": {
            "codemirror_mode": {
                "name": "ipython",
                "version": 3
            },
            "file_extension": ".py",
            "mimetype": "text/x-python",
            "name": "python",
            "nbconvert_exporter": "python",
            "pygments_lexer": "ipython3",
            "version": "3.12.6"
        }
    },
    "nbformat": 4,
    "nbformat_minor": 2
}
